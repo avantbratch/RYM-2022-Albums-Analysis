{
 "cells": [
  {
   "cell_type": "code",
   "execution_count": 24,
   "id": "71350a5a",
   "metadata": {},
   "outputs": [],
   "source": [
    "import pandas as pd\n",
    "import matplotlib.pyplot as plt\n",
    "import seaborn as sns\n",
    "import datetime\n",
    "import sqlite3"
   ]
  },
  {
   "cell_type": "markdown",
   "id": "10f898a4",
   "metadata": {},
   "source": [
    "Rate Your Music is an online collaborative database of music releases and films. Users can catalog items, assign ratings in a five-star rating system and review them. \n",
    "\n",
    "In this Jupyter notebook I try to analyze 100 best albums of 2022 according to rateyourmusic community."
   ]
  },
  {
   "cell_type": "code",
   "execution_count": 25,
   "id": "ecdf7daa",
   "metadata": {
    "scrolled": true
   },
   "outputs": [],
   "source": [
    "df_rym = pd.read_csv(\"C:/Users/Tornike/PycharmProjects/pythonProject12/rym_data_2022.csv\", index_col=0)"
   ]
  },
  {
   "cell_type": "code",
   "execution_count": 26,
   "id": "67f22277",
   "metadata": {},
   "outputs": [
    {
     "data": {
      "text/html": [
       "<div>\n",
       "<style scoped>\n",
       "    .dataframe tbody tr th:only-of-type {\n",
       "        vertical-align: middle;\n",
       "    }\n",
       "\n",
       "    .dataframe tbody tr th {\n",
       "        vertical-align: top;\n",
       "    }\n",
       "\n",
       "    .dataframe thead th {\n",
       "        text-align: right;\n",
       "    }\n",
       "</style>\n",
       "<table border=\"1\" class=\"dataframe\">\n",
       "  <thead>\n",
       "    <tr style=\"text-align: right;\">\n",
       "      <th></th>\n",
       "      <th>artist</th>\n",
       "      <th>album</th>\n",
       "      <th>release_date</th>\n",
       "      <th>genres</th>\n",
       "      <th>rating</th>\n",
       "      <th>rating_quantity</th>\n",
       "    </tr>\n",
       "  </thead>\n",
       "  <tbody>\n",
       "    <tr>\n",
       "      <th>0</th>\n",
       "      <td>Black Country, New Road</td>\n",
       "      <td>Ants From Up There</td>\n",
       "      <td>\\n4 February 2022\\nAlbum\\n</td>\n",
       "      <td>\\nArt Rock\\nPost-Rock\\nChamber Pop\\n</td>\n",
       "      <td>4.01</td>\n",
       "      <td>\\n               29k\\n</td>\n",
       "    </tr>\n",
       "    <tr>\n",
       "      <th>1</th>\n",
       "      <td>black midi</td>\n",
       "      <td>Hellfire</td>\n",
       "      <td>\\n15 July 2022\\nAlbum\\n</td>\n",
       "      <td>\\nAvant-Prog\\nBrutal Prog\\n</td>\n",
       "      <td>3.93</td>\n",
       "      <td>\\n               18k\\n</td>\n",
       "    </tr>\n",
       "    <tr>\n",
       "      <th>2</th>\n",
       "      <td>Danger Mouse, Black Thought</td>\n",
       "      <td>Cheat Codes</td>\n",
       "      <td>\\n12 August 2022\\nAlbum\\n</td>\n",
       "      <td>\\nEast Coast Hip Hop\\nConscious Hip Hop\\n</td>\n",
       "      <td>3.93</td>\n",
       "      <td>\\n               11k\\n</td>\n",
       "    </tr>\n",
       "    <tr>\n",
       "      <th>3</th>\n",
       "      <td>Big Thief</td>\n",
       "      <td>Dragon New Warm Mountain I Believe in You</td>\n",
       "      <td>\\n11 February 2022\\nAlbum\\n</td>\n",
       "      <td>\\nIndie Folk\\nFolk Rock\\n</td>\n",
       "      <td>3.91</td>\n",
       "      <td>\\n               14k\\n</td>\n",
       "    </tr>\n",
       "    <tr>\n",
       "      <th>4</th>\n",
       "      <td>Natalia Lafourcade</td>\n",
       "      <td>De todas las flores</td>\n",
       "      <td>\\n28 October 2022\\nAlbum\\n</td>\n",
       "      <td>\\nSinger-Songwriter\\nChamber Folk\\nVocal Jazz\\n</td>\n",
       "      <td>3.92</td>\n",
       "      <td>\\n               5k\\n</td>\n",
       "    </tr>\n",
       "  </tbody>\n",
       "</table>\n",
       "</div>"
      ],
      "text/plain": [
       "                        artist                                      album  \\\n",
       "0      Black Country, New Road                         Ants From Up There   \n",
       "1                   black midi                                   Hellfire   \n",
       "2  Danger Mouse, Black Thought                                Cheat Codes   \n",
       "3                    Big Thief  Dragon New Warm Mountain I Believe in You   \n",
       "4           Natalia Lafourcade                        De todas las flores   \n",
       "\n",
       "                  release_date  \\\n",
       "0   \\n4 February 2022\\nAlbum\\n   \n",
       "1      \\n15 July 2022\\nAlbum\\n   \n",
       "2    \\n12 August 2022\\nAlbum\\n   \n",
       "3  \\n11 February 2022\\nAlbum\\n   \n",
       "4   \\n28 October 2022\\nAlbum\\n   \n",
       "\n",
       "                                            genres  rating  \\\n",
       "0             \\nArt Rock\\nPost-Rock\\nChamber Pop\\n    4.01   \n",
       "1                      \\nAvant-Prog\\nBrutal Prog\\n    3.93   \n",
       "2        \\nEast Coast Hip Hop\\nConscious Hip Hop\\n    3.93   \n",
       "3                        \\nIndie Folk\\nFolk Rock\\n    3.91   \n",
       "4  \\nSinger-Songwriter\\nChamber Folk\\nVocal Jazz\\n    3.92   \n",
       "\n",
       "                      rating_quantity  \n",
       "0  \\n               29k\\n              \n",
       "1  \\n               18k\\n              \n",
       "2  \\n               11k\\n              \n",
       "3  \\n               14k\\n              \n",
       "4   \\n               5k\\n              "
      ]
     },
     "execution_count": 26,
     "metadata": {},
     "output_type": "execute_result"
    }
   ],
   "source": [
    "df_rym.head()"
   ]
  },
  {
   "cell_type": "markdown",
   "id": "9a2d12e8",
   "metadata": {},
   "source": [
    "What I need to do with the DataFrame:\n",
    "\n",
    "Change Formats of: release_date(date), genres(list), rating(float), rating_quantity(integer)"
   ]
  },
  {
   "cell_type": "code",
   "execution_count": 27,
   "id": "ea2c750b",
   "metadata": {},
   "outputs": [],
   "source": [
    "df_rym.rating_quantity = df_rym.rating_quantity.astype(str).str.replace('\\n', '')"
   ]
  },
  {
   "cell_type": "code",
   "execution_count": 28,
   "id": "b925c2ac",
   "metadata": {},
   "outputs": [],
   "source": [
    "df_rym.rating_quantity = df_rym.rating_quantity.astype(str).str.replace('k', '000')"
   ]
  },
  {
   "cell_type": "code",
   "execution_count": 29,
   "id": "61613fe7",
   "metadata": {},
   "outputs": [],
   "source": [
    "df_rym.rating = df_rym.rating.astype(float)\n",
    "df_rym.rating_quantity = df_rym.rating_quantity.astype(int)\n"
   ]
  },
  {
   "cell_type": "code",
   "execution_count": 30,
   "id": "c68e3fcb",
   "metadata": {},
   "outputs": [],
   "source": [
    "df_rym.genres = df_rym.genres.str[1:]\n",
    "df_rym.genres = df_rym.genres.str[:-1:]\n"
   ]
  },
  {
   "cell_type": "code",
   "execution_count": 31,
   "id": "6be4f0ce",
   "metadata": {},
   "outputs": [],
   "source": [
    "df_rym.genres = df_rym.genres.astype(str).str.replace('\\n', ',')"
   ]
  },
  {
   "cell_type": "code",
   "execution_count": 32,
   "id": "c465a40a",
   "metadata": {},
   "outputs": [],
   "source": [
    "df_rym.release_date = df_rym.release_date.str[1:]\n",
    "df_rym.release_date = df_rym.release_date.str[:-7:]"
   ]
  },
  {
   "cell_type": "code",
   "execution_count": 33,
   "id": "b944a5ef",
   "metadata": {
    "scrolled": true
   },
   "outputs": [],
   "source": [
    "df_rym.release_date = pd.to_datetime(df_rym.release_date)"
   ]
  },
  {
   "cell_type": "markdown",
   "id": "857a2f81",
   "metadata": {},
   "source": [
    "Column types are nowcorrect."
   ]
  },
  {
   "cell_type": "code",
   "execution_count": 34,
   "id": "5b9000d0",
   "metadata": {
    "scrolled": true
   },
   "outputs": [
    {
     "data": {
      "text/html": [
       "<div>\n",
       "<style scoped>\n",
       "    .dataframe tbody tr th:only-of-type {\n",
       "        vertical-align: middle;\n",
       "    }\n",
       "\n",
       "    .dataframe tbody tr th {\n",
       "        vertical-align: top;\n",
       "    }\n",
       "\n",
       "    .dataframe thead th {\n",
       "        text-align: right;\n",
       "    }\n",
       "</style>\n",
       "<table border=\"1\" class=\"dataframe\">\n",
       "  <thead>\n",
       "    <tr style=\"text-align: right;\">\n",
       "      <th></th>\n",
       "      <th>artist</th>\n",
       "      <th>album</th>\n",
       "      <th>release_date</th>\n",
       "      <th>genres</th>\n",
       "      <th>rating</th>\n",
       "      <th>rating_quantity</th>\n",
       "    </tr>\n",
       "  </thead>\n",
       "  <tbody>\n",
       "    <tr>\n",
       "      <th>0</th>\n",
       "      <td>Black Country, New Road</td>\n",
       "      <td>Ants From Up There</td>\n",
       "      <td>2022-02-04</td>\n",
       "      <td>Art Rock,Post-Rock,Chamber Pop</td>\n",
       "      <td>4.01</td>\n",
       "      <td>29000</td>\n",
       "    </tr>\n",
       "    <tr>\n",
       "      <th>1</th>\n",
       "      <td>black midi</td>\n",
       "      <td>Hellfire</td>\n",
       "      <td>2022-07-15</td>\n",
       "      <td>Avant-Prog,Brutal Prog</td>\n",
       "      <td>3.93</td>\n",
       "      <td>18000</td>\n",
       "    </tr>\n",
       "    <tr>\n",
       "      <th>2</th>\n",
       "      <td>Danger Mouse, Black Thought</td>\n",
       "      <td>Cheat Codes</td>\n",
       "      <td>2022-08-12</td>\n",
       "      <td>East Coast Hip Hop,Conscious Hip Hop</td>\n",
       "      <td>3.93</td>\n",
       "      <td>11000</td>\n",
       "    </tr>\n",
       "    <tr>\n",
       "      <th>3</th>\n",
       "      <td>Big Thief</td>\n",
       "      <td>Dragon New Warm Mountain I Believe in You</td>\n",
       "      <td>2022-02-11</td>\n",
       "      <td>Indie Folk,Folk Rock</td>\n",
       "      <td>3.91</td>\n",
       "      <td>14000</td>\n",
       "    </tr>\n",
       "    <tr>\n",
       "      <th>4</th>\n",
       "      <td>Natalia Lafourcade</td>\n",
       "      <td>De todas las flores</td>\n",
       "      <td>2022-10-28</td>\n",
       "      <td>Singer-Songwriter,Chamber Folk,Vocal Jazz</td>\n",
       "      <td>3.92</td>\n",
       "      <td>5000</td>\n",
       "    </tr>\n",
       "  </tbody>\n",
       "</table>\n",
       "</div>"
      ],
      "text/plain": [
       "                        artist                                      album  \\\n",
       "0      Black Country, New Road                         Ants From Up There   \n",
       "1                   black midi                                   Hellfire   \n",
       "2  Danger Mouse, Black Thought                                Cheat Codes   \n",
       "3                    Big Thief  Dragon New Warm Mountain I Believe in You   \n",
       "4           Natalia Lafourcade                        De todas las flores   \n",
       "\n",
       "  release_date                                     genres  rating  \\\n",
       "0   2022-02-04             Art Rock,Post-Rock,Chamber Pop    4.01   \n",
       "1   2022-07-15                     Avant-Prog,Brutal Prog    3.93   \n",
       "2   2022-08-12       East Coast Hip Hop,Conscious Hip Hop    3.93   \n",
       "3   2022-02-11                       Indie Folk,Folk Rock    3.91   \n",
       "4   2022-10-28  Singer-Songwriter,Chamber Folk,Vocal Jazz    3.92   \n",
       "\n",
       "   rating_quantity  \n",
       "0            29000  \n",
       "1            18000  \n",
       "2            11000  \n",
       "3            14000  \n",
       "4             5000  "
      ]
     },
     "execution_count": 34,
     "metadata": {},
     "output_type": "execute_result"
    }
   ],
   "source": [
    "df_rym.head()"
   ]
  },
  {
   "cell_type": "markdown",
   "id": "7e064894",
   "metadata": {},
   "source": [
    "Creating sqlite Database."
   ]
  },
  {
   "cell_type": "code",
   "execution_count": 35,
   "id": "bd290933",
   "metadata": {},
   "outputs": [],
   "source": [
    "conn = sqlite3.connect('rym_data.db')"
   ]
  },
  {
   "cell_type": "code",
   "execution_count": 36,
   "id": "1b72230d",
   "metadata": {},
   "outputs": [
    {
     "data": {
      "text/plain": [
       "<sqlite3.Cursor at 0x26f4fa78940>"
      ]
     },
     "execution_count": 36,
     "metadata": {},
     "output_type": "execute_result"
    }
   ],
   "source": [
    "create_table = \"CREATE TABLE IF NOT EXISTS rateyourmusic (artist TEXT, album TEXT, release_date DATE, genres TEXT, rating REAL, rating_quantity INTEGER)\"\n",
    "cursor = conn.cursor()\n",
    "cursor.execute(create_table)"
   ]
  },
  {
   "cell_type": "markdown",
   "id": "9ec11917",
   "metadata": {},
   "source": [
    "Descriptive statistics on 'rating' and 'rating_quantity' columns. "
   ]
  },
  {
   "cell_type": "code",
   "execution_count": 37,
   "id": "7e30190b",
   "metadata": {},
   "outputs": [
    {
     "data": {
      "text/html": [
       "<div>\n",
       "<style scoped>\n",
       "    .dataframe tbody tr th:only-of-type {\n",
       "        vertical-align: middle;\n",
       "    }\n",
       "\n",
       "    .dataframe tbody tr th {\n",
       "        vertical-align: top;\n",
       "    }\n",
       "\n",
       "    .dataframe thead th {\n",
       "        text-align: right;\n",
       "    }\n",
       "</style>\n",
       "<table border=\"1\" class=\"dataframe\">\n",
       "  <thead>\n",
       "    <tr style=\"text-align: right;\">\n",
       "      <th></th>\n",
       "      <th>rating</th>\n",
       "      <th>rating_quantity</th>\n",
       "    </tr>\n",
       "  </thead>\n",
       "  <tbody>\n",
       "    <tr>\n",
       "      <th>count</th>\n",
       "      <td>100.000000</td>\n",
       "      <td>100.00000</td>\n",
       "    </tr>\n",
       "    <tr>\n",
       "      <th>mean</th>\n",
       "      <td>3.651600</td>\n",
       "      <td>4196.44000</td>\n",
       "    </tr>\n",
       "    <tr>\n",
       "      <th>std</th>\n",
       "      <td>0.096732</td>\n",
       "      <td>4855.20151</td>\n",
       "    </tr>\n",
       "    <tr>\n",
       "      <th>min</th>\n",
       "      <td>3.540000</td>\n",
       "      <td>281.00000</td>\n",
       "    </tr>\n",
       "    <tr>\n",
       "      <th>25%</th>\n",
       "      <td>3.590000</td>\n",
       "      <td>987.00000</td>\n",
       "    </tr>\n",
       "    <tr>\n",
       "      <th>50%</th>\n",
       "      <td>3.620000</td>\n",
       "      <td>3000.00000</td>\n",
       "    </tr>\n",
       "    <tr>\n",
       "      <th>75%</th>\n",
       "      <td>3.670000</td>\n",
       "      <td>5000.00000</td>\n",
       "    </tr>\n",
       "    <tr>\n",
       "      <th>max</th>\n",
       "      <td>4.010000</td>\n",
       "      <td>29000.00000</td>\n",
       "    </tr>\n",
       "  </tbody>\n",
       "</table>\n",
       "</div>"
      ],
      "text/plain": [
       "           rating  rating_quantity\n",
       "count  100.000000        100.00000\n",
       "mean     3.651600       4196.44000\n",
       "std      0.096732       4855.20151\n",
       "min      3.540000        281.00000\n",
       "25%      3.590000        987.00000\n",
       "50%      3.620000       3000.00000\n",
       "75%      3.670000       5000.00000\n",
       "max      4.010000      29000.00000"
      ]
     },
     "execution_count": 37,
     "metadata": {},
     "output_type": "execute_result"
    }
   ],
   "source": [
    "df_rym.describe()"
   ]
  },
  {
   "cell_type": "markdown",
   "id": "a29282e7",
   "metadata": {},
   "source": [
    "Moving on to visualisation.\n",
    "\n",
    "I'm going to create two charts.\n",
    "\n",
    "First one is double y axis chart, which gives us the information about how many albums from top 100 were released throughout every month and the sum of their rating quantity."
   ]
  },
  {
   "cell_type": "code",
   "execution_count": 38,
   "id": "3def1560",
   "metadata": {},
   "outputs": [
    {
     "data": {
      "text/html": [
       "<div>\n",
       "<style scoped>\n",
       "    .dataframe tbody tr th:only-of-type {\n",
       "        vertical-align: middle;\n",
       "    }\n",
       "\n",
       "    .dataframe tbody tr th {\n",
       "        vertical-align: top;\n",
       "    }\n",
       "\n",
       "    .dataframe thead th {\n",
       "        text-align: right;\n",
       "    }\n",
       "</style>\n",
       "<table border=\"1\" class=\"dataframe\">\n",
       "  <thead>\n",
       "    <tr style=\"text-align: right;\">\n",
       "      <th></th>\n",
       "      <th>album</th>\n",
       "      <th>rating_quantity</th>\n",
       "    </tr>\n",
       "    <tr>\n",
       "      <th>release_date</th>\n",
       "      <th></th>\n",
       "      <th></th>\n",
       "    </tr>\n",
       "  </thead>\n",
       "  <tbody>\n",
       "    <tr>\n",
       "      <th>Jan</th>\n",
       "      <td>1</td>\n",
       "      <td>5000</td>\n",
       "    </tr>\n",
       "    <tr>\n",
       "      <th>Feb</th>\n",
       "      <td>7</td>\n",
       "      <td>68000</td>\n",
       "    </tr>\n",
       "    <tr>\n",
       "      <th>Mar</th>\n",
       "      <td>5</td>\n",
       "      <td>36297</td>\n",
       "    </tr>\n",
       "    <tr>\n",
       "      <th>Apr</th>\n",
       "      <td>10</td>\n",
       "      <td>44613</td>\n",
       "    </tr>\n",
       "    <tr>\n",
       "      <th>May</th>\n",
       "      <td>8</td>\n",
       "      <td>45155</td>\n",
       "    </tr>\n",
       "    <tr>\n",
       "      <th>Jun</th>\n",
       "      <td>6</td>\n",
       "      <td>17472</td>\n",
       "    </tr>\n",
       "    <tr>\n",
       "      <th>Jul</th>\n",
       "      <td>15</td>\n",
       "      <td>64574</td>\n",
       "    </tr>\n",
       "    <tr>\n",
       "      <th>Aug</th>\n",
       "      <td>5</td>\n",
       "      <td>23713</td>\n",
       "    </tr>\n",
       "    <tr>\n",
       "      <th>Sep</th>\n",
       "      <td>15</td>\n",
       "      <td>34281</td>\n",
       "    </tr>\n",
       "    <tr>\n",
       "      <th>Oct</th>\n",
       "      <td>16</td>\n",
       "      <td>45360</td>\n",
       "    </tr>\n",
       "    <tr>\n",
       "      <th>Nov</th>\n",
       "      <td>8</td>\n",
       "      <td>26845</td>\n",
       "    </tr>\n",
       "    <tr>\n",
       "      <th>Dec</th>\n",
       "      <td>4</td>\n",
       "      <td>8334</td>\n",
       "    </tr>\n",
       "  </tbody>\n",
       "</table>\n",
       "</div>"
      ],
      "text/plain": [
       "              album  rating_quantity\n",
       "release_date                        \n",
       "Jan               1             5000\n",
       "Feb               7            68000\n",
       "Mar               5            36297\n",
       "Apr              10            44613\n",
       "May               8            45155\n",
       "Jun               6            17472\n",
       "Jul              15            64574\n",
       "Aug               5            23713\n",
       "Sep              15            34281\n",
       "Oct              16            45360\n",
       "Nov               8            26845\n",
       "Dec               4             8334"
      ]
     },
     "execution_count": 38,
     "metadata": {},
     "output_type": "execute_result"
    }
   ],
   "source": [
    "df_quantity = df_rym.groupby(df_rym.release_date.dt.month).agg({'album': 'count', 'rating_quantity': 'sum'}).reset_index()\n",
    "df_quantity.release_date = ['Jan', 'Feb', 'Mar', 'Apr', 'May', 'Jun', 'Jul', 'Aug', 'Sep', 'Oct', 'Nov', 'Dec']\n",
    "df_quantity.set_index('release_date', inplace=True)\n",
    "df_quantity.head(12)\n"
   ]
  },
  {
   "cell_type": "code",
   "execution_count": 39,
   "id": "4f62dc1c",
   "metadata": {
    "scrolled": false
   },
   "outputs": [
    {
     "data": {
      "text/plain": [
       "Text(0.5, 0, 'Release Date')"
      ]
     },
     "execution_count": 39,
     "metadata": {},
     "output_type": "execute_result"
    },
    {
     "data": {
      "image/png": "[encoded data removed]",
      "text/plain": [
       "<Figure size 960x320 with 2 Axes>"
      ]
     },
     "metadata": {},
     "output_type": "display_data"
    }
   ],
   "source": [
    "fig = plt.figure(figsize = (12,4), dpi=80)\n",
    "ax = fig.add_subplot()\n",
    "ax2 = ax.twinx()\n",
    "\n",
    "width = 0.3\n",
    "\n",
    "plt.title('TITLE')\n",
    "\n",
    "df_quantity.album.plot(kind='bar', color='red', ax=ax, width=width, position=1)\n",
    "df_quantity.rating_quantity.plot(kind='bar', color='blue', ax=ax2, width=width, position=0)\n",
    "\n",
    "ax.set_ylabel('Album Quatity', color='red', size=14)\n",
    "ax2.set_ylabel('Rating Quantity', color='blue',  size=14)\n",
    "ax.set_xlabel('Release Date', size=14)"
   ]
  },
  {
   "cell_type": "markdown",
   "id": "6658e6ee",
   "metadata": {},
   "source": [
    "Splitting individual cells into lists to find what is the most high-rated, most listened genres in top 100."
   ]
  },
  {
   "cell_type": "code",
   "execution_count": 41,
   "id": "4cc04722",
   "metadata": {},
   "outputs": [
    {
     "data": {
      "text/html": [
       "<div>\n",
       "<style scoped>\n",
       "    .dataframe tbody tr th:only-of-type {\n",
       "        vertical-align: middle;\n",
       "    }\n",
       "\n",
       "    .dataframe tbody tr th {\n",
       "        vertical-align: top;\n",
       "    }\n",
       "\n",
       "    .dataframe thead th {\n",
       "        text-align: right;\n",
       "    }\n",
       "</style>\n",
       "<table border=\"1\" class=\"dataframe\">\n",
       "  <thead>\n",
       "    <tr style=\"text-align: right;\">\n",
       "      <th></th>\n",
       "      <th>artist</th>\n",
       "      <th>album</th>\n",
       "      <th>release_date</th>\n",
       "      <th>genres</th>\n",
       "      <th>rating</th>\n",
       "      <th>rating_quantity</th>\n",
       "    </tr>\n",
       "  </thead>\n",
       "  <tbody>\n",
       "    <tr>\n",
       "      <th>0</th>\n",
       "      <td>Black Country, New Road</td>\n",
       "      <td>Ants From Up There</td>\n",
       "      <td>2022-02-04</td>\n",
       "      <td>[Art Rock, Post-Rock, Chamber Pop]</td>\n",
       "      <td>4.01</td>\n",
       "      <td>29000</td>\n",
       "    </tr>\n",
       "    <tr>\n",
       "      <th>1</th>\n",
       "      <td>black midi</td>\n",
       "      <td>Hellfire</td>\n",
       "      <td>2022-07-15</td>\n",
       "      <td>[Avant-Prog, Brutal Prog]</td>\n",
       "      <td>3.93</td>\n",
       "      <td>18000</td>\n",
       "    </tr>\n",
       "    <tr>\n",
       "      <th>2</th>\n",
       "      <td>Danger Mouse, Black Thought</td>\n",
       "      <td>Cheat Codes</td>\n",
       "      <td>2022-08-12</td>\n",
       "      <td>[East Coast Hip Hop, Conscious Hip Hop]</td>\n",
       "      <td>3.93</td>\n",
       "      <td>11000</td>\n",
       "    </tr>\n",
       "    <tr>\n",
       "      <th>3</th>\n",
       "      <td>Big Thief</td>\n",
       "      <td>Dragon New Warm Mountain I Believe in You</td>\n",
       "      <td>2022-02-11</td>\n",
       "      <td>[Indie Folk, Folk Rock]</td>\n",
       "      <td>3.91</td>\n",
       "      <td>14000</td>\n",
       "    </tr>\n",
       "    <tr>\n",
       "      <th>4</th>\n",
       "      <td>Natalia Lafourcade</td>\n",
       "      <td>De todas las flores</td>\n",
       "      <td>2022-10-28</td>\n",
       "      <td>[Singer-Songwriter, Chamber Folk, Vocal Jazz]</td>\n",
       "      <td>3.92</td>\n",
       "      <td>5000</td>\n",
       "    </tr>\n",
       "  </tbody>\n",
       "</table>\n",
       "</div>"
      ],
      "text/plain": [
       "                        artist                                      album  \\\n",
       "0      Black Country, New Road                         Ants From Up There   \n",
       "1                   black midi                                   Hellfire   \n",
       "2  Danger Mouse, Black Thought                                Cheat Codes   \n",
       "3                    Big Thief  Dragon New Warm Mountain I Believe in You   \n",
       "4           Natalia Lafourcade                        De todas las flores   \n",
       "\n",
       "  release_date                                         genres  rating  \\\n",
       "0   2022-02-04             [Art Rock, Post-Rock, Chamber Pop]    4.01   \n",
       "1   2022-07-15                      [Avant-Prog, Brutal Prog]    3.93   \n",
       "2   2022-08-12        [East Coast Hip Hop, Conscious Hip Hop]    3.93   \n",
       "3   2022-02-11                        [Indie Folk, Folk Rock]    3.91   \n",
       "4   2022-10-28  [Singer-Songwriter, Chamber Folk, Vocal Jazz]    3.92   \n",
       "\n",
       "   rating_quantity  \n",
       "0            29000  \n",
       "1            18000  \n",
       "2            11000  \n",
       "3            14000  \n",
       "4             5000  "
      ]
     },
     "execution_count": 41,
     "metadata": {},
     "output_type": "execute_result"
    }
   ],
   "source": [
    "df_rym.genres = df_rym.genres.str.split(',')\n",
    "df_rym.head()\n"
   ]
  },
  {
   "cell_type": "code",
   "execution_count": 42,
   "id": "17d676f0",
   "metadata": {},
   "outputs": [
    {
     "data": {
      "text/html": [
       "<div>\n",
       "<style scoped>\n",
       "    .dataframe tbody tr th:only-of-type {\n",
       "        vertical-align: middle;\n",
       "    }\n",
       "\n",
       "    .dataframe tbody tr th {\n",
       "        vertical-align: top;\n",
       "    }\n",
       "\n",
       "    .dataframe thead th {\n",
       "        text-align: right;\n",
       "    }\n",
       "</style>\n",
       "<table border=\"1\" class=\"dataframe\">\n",
       "  <thead>\n",
       "    <tr style=\"text-align: right;\">\n",
       "      <th></th>\n",
       "      <th>genres</th>\n",
       "      <th>album</th>\n",
       "    </tr>\n",
       "  </thead>\n",
       "  <tbody>\n",
       "    <tr>\n",
       "      <th>0</th>\n",
       "      <td>Conscious Hip Hop</td>\n",
       "      <td>11</td>\n",
       "    </tr>\n",
       "    <tr>\n",
       "      <th>1</th>\n",
       "      <td>East Coast Hip Hop</td>\n",
       "      <td>10</td>\n",
       "    </tr>\n",
       "    <tr>\n",
       "      <th>2</th>\n",
       "      <td>Progressive Metal</td>\n",
       "      <td>7</td>\n",
       "    </tr>\n",
       "    <tr>\n",
       "      <th>3</th>\n",
       "      <td>Art Pop</td>\n",
       "      <td>6</td>\n",
       "    </tr>\n",
       "    <tr>\n",
       "      <th>4</th>\n",
       "      <td>Drumless</td>\n",
       "      <td>6</td>\n",
       "    </tr>\n",
       "    <tr>\n",
       "      <th>5</th>\n",
       "      <td>Death Metal</td>\n",
       "      <td>6</td>\n",
       "    </tr>\n",
       "    <tr>\n",
       "      <th>6</th>\n",
       "      <td>Post-Hardcore</td>\n",
       "      <td>5</td>\n",
       "    </tr>\n",
       "    <tr>\n",
       "      <th>7</th>\n",
       "      <td>Abstract Hip Hop</td>\n",
       "      <td>5</td>\n",
       "    </tr>\n",
       "    <tr>\n",
       "      <th>8</th>\n",
       "      <td>Atmospheric Black Metal</td>\n",
       "      <td>5</td>\n",
       "    </tr>\n",
       "    <tr>\n",
       "      <th>9</th>\n",
       "      <td>Progressive Rock</td>\n",
       "      <td>4</td>\n",
       "    </tr>\n",
       "    <tr>\n",
       "      <th>10</th>\n",
       "      <td>Southern Hip Hop</td>\n",
       "      <td>4</td>\n",
       "    </tr>\n",
       "    <tr>\n",
       "      <th>11</th>\n",
       "      <td>Gangsta Rap</td>\n",
       "      <td>4</td>\n",
       "    </tr>\n",
       "    <tr>\n",
       "      <th>12</th>\n",
       "      <td>Black Metal</td>\n",
       "      <td>4</td>\n",
       "    </tr>\n",
       "    <tr>\n",
       "      <th>13</th>\n",
       "      <td>Avant-Garde Metal</td>\n",
       "      <td>4</td>\n",
       "    </tr>\n",
       "    <tr>\n",
       "      <th>14</th>\n",
       "      <td>Singer-Songwriter</td>\n",
       "      <td>3</td>\n",
       "    </tr>\n",
       "    <tr>\n",
       "      <th>15</th>\n",
       "      <td>Glitch Pop</td>\n",
       "      <td>3</td>\n",
       "    </tr>\n",
       "    <tr>\n",
       "      <th>16</th>\n",
       "      <td>Power Metal</td>\n",
       "      <td>3</td>\n",
       "    </tr>\n",
       "    <tr>\n",
       "      <th>17</th>\n",
       "      <td>Psychedelic Rock</td>\n",
       "      <td>3</td>\n",
       "    </tr>\n",
       "    <tr>\n",
       "      <th>18</th>\n",
       "      <td>Chamber Folk</td>\n",
       "      <td>3</td>\n",
       "    </tr>\n",
       "    <tr>\n",
       "      <th>19</th>\n",
       "      <td>Boom Bap</td>\n",
       "      <td>3</td>\n",
       "    </tr>\n",
       "  </tbody>\n",
       "</table>\n",
       "</div>"
      ],
      "text/plain": [
       "                     genres  album\n",
       "0         Conscious Hip Hop     11\n",
       "1        East Coast Hip Hop     10\n",
       "2         Progressive Metal      7\n",
       "3                   Art Pop      6\n",
       "4                  Drumless      6\n",
       "5               Death Metal      6\n",
       "6             Post-Hardcore      5\n",
       "7          Abstract Hip Hop      5\n",
       "8   Atmospheric Black Metal      5\n",
       "9          Progressive Rock      4\n",
       "10         Southern Hip Hop      4\n",
       "11              Gangsta Rap      4\n",
       "12              Black Metal      4\n",
       "13        Avant-Garde Metal      4\n",
       "14        Singer-Songwriter      3\n",
       "15               Glitch Pop      3\n",
       "16              Power Metal      3\n",
       "17         Psychedelic Rock      3\n",
       "18             Chamber Folk      3\n",
       "19                 Boom Bap      3"
      ]
     },
     "execution_count": 42,
     "metadata": {},
     "output_type": "execute_result"
    }
   ],
   "source": [
    "df_genres = df_rym.explode('genres')\n",
    "df_genres = df_genres.groupby(df_genres.genres).agg({'album': pd.Series.count}).sort_values('album', ascending=False).reset_index()\n",
    "df_genres.head(20)"
   ]
  },
  {
   "cell_type": "markdown",
   "id": "99347fad",
   "metadata": {},
   "source": [
    "Pie chart of the most listened 10 genres of the year."
   ]
  },
  {
   "cell_type": "code",
   "execution_count": 197,
   "id": "c8411d63",
   "metadata": {},
   "outputs": [
    {
     "data": {
      "image/png": "[encoded data removed]",
      "text/plain": [
       "<Figure size 640x480 with 1 Axes>"
      ]
     },
     "metadata": {},
     "output_type": "display_data"
    }
   ],
   "source": [
    "df_genres = df_genres.head(10)\n",
    "df_genres\n",
    "\n",
    "\n",
    "palette_color = sns.color_palette('bright')\n",
    "\n",
    "plt.pie(df_genres.album, labels=df_genres.genres, colors=palette_color, autopct='%.0f%%')\n",
    "plt.show()\n"
   ]
  }
 ],
 "metadata": {
  "kernelspec": {
   "display_name": "Python 3 (ipykernel)",
   "language": "python",
   "name": "python3"
  },
  "language_info": {
   "codemirror_mode": {
    "name": "ipython",
    "version": 3
   },
   "file_extension": ".py",
   "mimetype": "text/x-python",
   "name": "python",
   "nbconvert_exporter": "python",
   "pygments_lexer": "ipython3",
   "version": "3.10.7"
  }
 },
 "nbformat": 4,
 "nbformat_minor": 5
}
